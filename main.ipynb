{
 "cells": [
  {
   "cell_type": "code",
   "execution_count": 1,
   "metadata": {},
   "outputs": [],
   "source": [
    "import math\n",
    "import random\n",
    "import numpy as np\n",
    "import matplotlib.pyplot as plt"
   ]
  },
  {
   "cell_type": "code",
   "execution_count": 2,
   "metadata": {},
   "outputs": [],
   "source": [
    "\n",
    "class FCFS_simulator:\n",
    "\n",
    "  def __init__(self, sample_size, lambda_, mu_, seed=0):\n",
    "\n",
    "    self.sample_size = sample_size\n",
    "    random.seed(seed)\n",
    "    self.arrival_time_generator = lambda: -math.log(random.random())/lambda_ # マルコフ過程(指数分布)に従う.\n",
    "    self.service_time_generator = lambda: -math.log(random.random())/mu_     # 指数分布に従う.\n",
    "    \n",
    "  def simulate(self):\n",
    "\n",
    "    t = 0                                   # 現在時刻\n",
    "    SS = 0                                  # 系内客数\n",
    "    N_A = 0                                 # 到着客数\n",
    "    N_D = 0                                 # 離脱客数\n",
    "    t_A = self.arrival_time_generator()     # 次の到着時刻\n",
    "    t_D = math.inf                          # 次の離脱時刻\n",
    "    A = [0] * (self.sample_size+1)          # i番目の客の到着時刻を記録するための配列\n",
    "    D = [0] * (self.sample_size+1)          # i番目の客の離脱時刻を記録するための配列\n",
    "    while N_D != self.sample_size:\n",
    "      if t_A <= t_D:                        # 次の事象が到着である場合\n",
    "        t = t_A                             # 現在時刻を到着時刻t_Aに更新\n",
    "        N_A = N_A + 1                       # 到着客数を1増やす\n",
    "        if N_A <= self.sample_size:         # N_Aがsample数を超えていなければ, 時刻を記録\n",
    "          A[N_A] = t\n",
    "        SS = SS + 1                         # 系内客数を1増やす\n",
    "        X = self.arrival_time_generator()   # 次の客の到着時間を生成\n",
    "        t_A = t + X                         # 次の客の到着時刻を設定\n",
    "        if SS == 1:                         # 系内客数が1であれば, t_D=infなので離脱時間を設定しておく必要がある\n",
    "          Y = self.service_time_generator() # サービス時間を生成\n",
    "          t_D = t + Y                       # サービス時間を設定\n",
    "\n",
    "      elif t_A > t_D:                       # 次の事象が離脱である場合\n",
    "        t = t_D                             # 現在時刻を到着時刻t_Dに更新\n",
    "        N_D = N_D + 1                       # 離脱客数を1増やす\n",
    "        D[N_D] = t                          # N_D番目の客の現在時刻を記録\n",
    "        SS = SS - 1                         # 系内客数を1減らす\n",
    "\n",
    "        if SS > 0:                          # 系内客数が0より大きい場合,\n",
    "          Y = self.service_time_generator() # 現在先頭にいる客の離脱時刻を設定する必要がある\n",
    "          t_D = t + Y\n",
    "        elif SS == 0:                       # 系内客数が0の場合\n",
    "          t_D = math.inf                    # 離脱時刻を設定する必要がないためinfに設定\n",
    "\n",
    "    # シミュレーション結果から平均滞在時間を求める(P.60)\n",
    "    mean_sojourn_time = 0\n",
    "\n",
    "    for i in range(1,self.sample_size+1):\n",
    "      mean_sojourn_time += D[i] - A[i]\n",
    "    mean_sojourn_time /= self.sample_size\n",
    "\n",
    "    return mean_sojourn_time\n"
   ]
  },
  {
   "cell_type": "code",
   "execution_count": 3,
   "metadata": {},
   "outputs": [
    {
     "data": {
      "image/png": "[encoded data removed]",
      "text/plain": [
       "<Figure size 432x288 with 1 Axes>"
      ]
     },
     "metadata": {
      "needs_background": "light"
     },
     "output_type": "display_data"
    }
   ],
   "source": [
    "\n",
    "if __name__ == \"__main__\":\n",
    "\n",
    "  # シミュレーションに関する定数の設定\n",
    "  customer_size = 100000       # 1シミュレーションで扱う客数の数\n",
    "  sample_size = 51           # 標本数\n",
    "  \n",
    "  x1 = []\n",
    "  y1 = []\n",
    "  confidence_interval = []\n",
    "\n",
    "  for rho in np.arange(0.1, 1.0, 0.1):\n",
    "    average_arrival_rate = rho # 平均到着率(λ)\n",
    "    average_service_rate = 1.0 # 平均サービス率(μ)\n",
    "\n",
    "    # trialsの数だけシミュレーションを行う\n",
    "    result = [] # 各シミュレーションでの平均滞在時間を管理する\n",
    "    for _ in range(sample_size):\n",
    "      model = FCFS_simulator(sample_size=customer_size, lambda_=average_arrival_rate, mu_=average_service_rate, seed=random.randint(1, 100000000))\n",
    "      mean_sojourn_time = model.simulate()\n",
    "      result.append(mean_sojourn_time)\n",
    "\n",
    "    # 信頼区間の計算(P.78)\n",
    "    result = np.array(result)\n",
    "    sample_mean = np.mean(result)\n",
    "    sample_std = np.std(result, ddof=1) # 自由度n-1で割る\n",
    "    # t = 2.228\n",
    "    # t = 2.086\n",
    "    t = 2.009 # 信頼水準が97.5, 自由度(= sample_size-1)が50のとき\n",
    "\n",
    "    x1.append(rho)\n",
    "    y1.append(sample_mean)\n",
    "    confidence_interval.append(t*sample_std/math.sqrt(sample_size))\n",
    "\n",
    "  # シミュレーション結果の描画\n",
    "  g = plt.errorbar(x1, y1, yerr=confidence_interval, elinewidth=0.8, ecolor='black', markersize=5, fmt='xk', capsize=2)\n",
    "  g[-1][0].set_linestyle('-') # 信頼区間のlinestyleの設定\n",
    "\n",
    "  # 平均滞在時間の理論値(リトルの公式から)の描画\n",
    "  x2 = np.arange(0, 1, 0.01)\n",
    "  y2 = 1 / (1 - x2) # ¥mu = 1のとき, E[T] = 1 / ¥mu * 1/(1-¥rho) = 1 / (1 - ¥rho)\n",
    "  plt.plot(x2, y2, linestyle='-', linewidth=0.8, color='black')\n",
    "  \n",
    "  plt.xlim(0, 1)\n",
    "  plt.ylim(0, 20)\n",
    "  \n",
    "  plt.title('mean sojourn time(M/M/1)')\n",
    "  plt.xlabel(r'$\\rho=\\lambda/\\mu$')\n",
    "  plt.ylabel(r'$\\rm{E}[\\rm{T}]$')\n",
    "  plt.show()\n"
   ]
  }
 ],
 "metadata": {
  "interpreter": {
   "hash": "1481b046b7f3f27a8c95f3bad9c8af8b64fd3fd360a39934d85e3a759bc03c33"
  },
  "kernelspec": {
   "display_name": "Python 3.8.6 64-bit ('PBLLP': pyenv)",
   "language": "python",
   "name": "python3"
  },
  "language_info": {
   "codemirror_mode": {
    "name": "ipython",
    "version": 3
   },
   "file_extension": ".py",
   "mimetype": "text/x-python",
   "name": "python",
   "nbconvert_exporter": "python",
   "pygments_lexer": "ipython3",
   "version": "3.8.6"
  },
  "orig_nbformat": 4
 },
 "nbformat": 4,
 "nbformat_minor": 2
}
